{
 "cells": [
  {
   "cell_type": "code",
   "execution_count": 2,
   "metadata": {},
   "outputs": [],
   "source": [
    "import matplotlib.pyplot as plt\n",
    "import seaborn as sbn\n",
    "import pandas as pd\n",
    "import numpy as np"
   ]
  },
  {
   "cell_type": "code",
   "execution_count": 3,
   "metadata": {},
   "outputs": [],
   "source": [
    "sbn.set()"
   ]
  },
  {
   "cell_type": "markdown",
   "metadata": {},
   "source": [
    "# Comentarios iniciales"
   ]
  },
  {
   "cell_type": "markdown",
   "metadata": {},
   "source": [
    "Primero me gustaría hacer una **gran advertencia**: \n",
    "> Este notebook y todos los que vienen estarán escritos de en la misma manera en la que doy mis clases, con un tono informal, sin asumir que hay una voz universal y máxima de conocimiento. Si notas errores puedes comentarlos y si te animas puedes colaborar a corregirlos.\n",
    "Nunca me he sentido cómodo de aprender de las grandes e inalcanzables mentes, existen y está bien pero simplemente no me siento cómodo y por eso mismo incluso hago estos notebooks. El conocimiento no debería de quedarse limitado a aulas y los y las catedráticas no deberían de ser los y las únicas poseedoras del conocimiento, en cambio, creo que lo podemos sino democratizar sí facilitar.  \n",
    "\n",
    "Adicional a lo anterior voy a asumir que tienes conocimientos en lo que yo llamo _python para sistemas_: conocimiento de iteradores, numpy y matplotlib o seaborn. A esto le llaman también cómputo númerico pero yo así le puse a mi tutorial; si quieres darle una repasada a tu python puede encontrar también un breve taller/curso, o cual sea el nombre que le podamos dar: [python para sistemas](https://github.com/uncrayon/python-para-sistemas). \n",
    "\n",
    "Por último, Daniel Shiffman (The Coding Traing) resuelve casi todos los problemas usando processing y p5.js. Processing está sobre java mientras que p5.js es un _framework_ de javascript. Aquí vamos a usar python y esto es porque python es súper fácil de leer y además la gran mayoría de personas que tengo cercanas tienen nociones del mismo (así también estoy considerando hacer un fork en R). \n",
    "\n",
    "Pasando los tres puntos anteriores ahora sí, vamos al problema. "
   ]
  },
  {
   "cell_type": "markdown",
   "metadata": {},
   "source": [
    "_Si existe alguna forma de hacer posdata en un texto esto es eso: Adicional a las notas anteriores me gustaría decir que muchas veces escribiendo no soy tan elocuente como lo podría ser hablando y viceversa entonces cualquier duda échala por aquí o a mi correo y la checamos en conjunto. Preferiría que la pusieras acá porque además así queda registro para que otras personas puedan acceder a la discusión y quede como banco de dudas_"
   ]
  },
  {
   "cell_type": "markdown",
   "metadata": {},
   "source": [
    "# El oscilador armónico"
   ]
  },
  {
   "cell_type": "markdown",
   "metadata": {},
   "source": [
    "Antes de hablar del péndulo me gustaría que platicaramos del oscilador armónico. \n",
    "\n",
    "Supón que hay una masa atada a un resorte y este está fijo a una pared.\n",
    "\n",
    "![oscilador_1](./img/oscilador_1.png)\n",
    "\n",
    "Supón también que cuando el oscilador está en reposo en una posición que llamaremos $x_0$ y para simplificar la vida diremos que $x_{0} = 0$. Hasta ahora el problema está en una dimensión entonces no se tiene que incluir notación vectorial: ni negritas, ni flechas. Análisis rápido ¿Por qué está en una dimensión? No hay _niguna fuerza_ actuando en la componente $y$ o en la componente $z$ y por ello se puede reducir la expresión al eje $x$ entonces las ecuaciones que antes eran vectoriales se reducen a expresiones escalares, más adelante hay problemas 3D.   "
   ]
  },
  {
   "cell_type": "markdown",
   "metadata": {},
   "source": [
    "Hasta ahora no hay ecuaciones, la masa está estática y el resorte en reposo. Por el bien del tutorial jalo la masa, la llevo a una posición $x_{1}$ y la suelto\n",
    "\n",
    "![oscilador_2](./img/oscilador_2.png)\n",
    "\n",
    "Y momentos después alcanza la posición $x_{2}$. Como no hay fricción no hay disipación de energía entonces la masa y el resorte se quedarán haciendo se movimiento hasta que alguien interfiera de alguna manera. Claramente la mécanica ideal se escapa de las leyes de la termodinámica. \n",
    "\n",
    "El fenómeno de jalar la masa y que esta vaya y venga se llama _oscilación_ y la cantidad de veces que pasa por el punto $x_1$ (o el $x_2$ o el $x_0$) en un segundo se le llama _frecuencia_. Al tiempo en que tarda en regresar la masa al punto $x_1$ partiendo del punto $x_{1}$ se llama periodo y todas estas medidas nos caracteristicas de un péndulo y nos ayudan a describirlo. Si bien medir esas cantidades ayuda a describir este oscilador no ayuda a describir ni predecir cualqueir otro oscilador por ello se necesita hacer una _generalización_, esto es aprender a describir bien al sistema e incluso predecirlo. "
   ]
  },
  {
   "cell_type": "markdown",
   "metadata": {},
   "source": [
    "Para lo anterior partamos de la [ley de Hooke](https://es.wikipedia.org/wiki/Ley_de_elasticidad_de_Hooke). Es posible escribirla (bajo la convención adecuada) como la siguiente _fuerza restaurativa_ (porque tiene un menos):\n",
    "\n",
    "$$\n",
    " F_{s} = - k x\n",
    "$$\n",
    "\n",
    "Donde $F_{s}$ es la fuerza que ejerce el resorte sobre la masa. Notemos que la fuerza crece entre más lejos este del punto de reposo la masa.   \n",
    "\n",
    "Vamos a analizar un poco la situación. Si $x=0$ entonces $F_{s}(x=0) = 0$, es decir, está en reposo la masa ya que el resorte no ejece ninguna fuerza sobre ella. Si $x>0$ entonces $F_{s}(x)<0$ y esto quiere decir que el resorte _está jalando_ a la masa su punto de reposo, mientras que si $x<0$ entonces $F_{s}(x)>0$ lo que quiere decir que el resorte _está empujando_ a la masa al punto de reposo. "
   ]
  },
  {
   "cell_type": "markdown",
   "metadata": {},
   "source": [
    "Pasado lo anterior es momento de llamar, como en todo problema de mécanica, a la segunda ley de Newton:\n",
    "\n",
    "$$\n",
    "F = ma\n",
    "$$\n",
    "\n",
    "Ahora, lo anterior se puede formular también en términos de una segunda derivada:\n",
    "\n",
    "$$\n",
    "F = m a = m \\frac{d^{2}x}{dt^{2}}\n",
    "$$\n",
    "\n",
    "Siguiendo la segunda de Newton tenemos que la fuerza en que el resorte aplica sobre la caja es describible también en términos de su aceleración y masa de tal suerte que:\n",
    "\n",
    "$$\n",
    " m \\frac{d^{2}x}{dt^{2}} = -k x\n",
    "$$\n",
    "\n",
    "Y así llegamos a una ecuación diferencial ordinaria de segundo orden, si resolvemos la ecuación entonces encontramos un forma de describir y predecir el comportamiento de cualquier resorte. Esta ecuación es resoluble analíticamente sin embargo la gran basta cantidad de ecuaciones que encontraremos en la realidad no lo son y tendremos que recurrir a los métodos númericos, para avanzar vamos a visitar al más sencillo de todos ellos: el método de Euler. "
   ]
  },
  {
   "cell_type": "code",
   "execution_count": null,
   "metadata": {},
   "outputs": [],
   "source": []
  }
 ],
 "metadata": {
  "kernelspec": {
   "display_name": "Python 3",
   "language": "python",
   "name": "python3"
  },
  "language_info": {
   "codemirror_mode": {
    "name": "ipython",
    "version": 3
   },
   "file_extension": ".py",
   "mimetype": "text/x-python",
   "name": "python",
   "nbconvert_exporter": "python",
   "pygments_lexer": "ipython3",
   "version": "3.7.3"
  }
 },
 "nbformat": 4,
 "nbformat_minor": 4
}
